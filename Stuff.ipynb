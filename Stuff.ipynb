{
 "cells": [
  {
   "cell_type": "code",
   "execution_count": 1,
   "id": "246c6716-d838-4299-b80c-bec83556d54b",
   "metadata": {},
   "outputs": [],
   "source": [
    "import networkx as nx\n",
    "import markov_clustering as mc\n",
    "import numpy as np\n",
    "import scipy as sp\n",
    "import matplotlib.pyplot as plt\n",
    "import pandas as pd\n",
    "import func\n",
    "from pprint import pprint\n",
    "\n",
    "#from Confidence import importance PTC5"
   ]
  },
  {
   "cell_type": "code",
   "execution_count": 2,
   "id": "2fa789ee-eedd-4f02-ba26-692a022f55b8",
   "metadata": {},
   "outputs": [],
   "source": [
    "def importance(confidence, target = \"4932.YFL018C\"):\n",
    "    network_name = \"network_info/4932_protein_links_v11_5.txt\"\n",
    "    G = func.remove_threshold(network_name, confidence)\n",
    "\n",
    "    adj_matrix = nx.adjacency_matrix(G) \n",
    "    protein_hash = {}\n",
    "    for index, node in enumerate(G.nodes):\n",
    "        protein_hash[index] = node\n",
    "        \n",
    "    result = mc.run_mcl(adj_matrix)         \n",
    "    clusters = mc.get_clusters(result) \n",
    "    \n",
    "    named_clusters = func.renaming_clusters(clusters, protein_hash)\n",
    "    \n",
    "    target = func.find_cluster(target, named_clusters)\n",
    "    \n",
    "    weighted_network = func.convert_to_weighted(G, named_clusters)\n",
    "    \n",
    "    mapping = {node : f\"w{node}\" for node in weighted_network.nodes}\n",
    "    weighted_network_rename = nx.relabel_nodes(weighted_network, mapping)\n",
    "    filtered_weight = func.connected_clusters(weighted_network_rename, mapping[target])\n",
    "    weighted_centrality = func.weighted_centrality(filtered_weight, mapping[target])\n",
    "    \n",
    "    important = list(weighted_centrality.items())\n",
    "    \n",
    "    return (G, named_clusters, important)"
   ]
  },
  {
   "cell_type": "code",
   "execution_count": 3,
   "id": "638ed2a3-2913-40e1-b327-c51f701f5f50",
   "metadata": {},
   "outputs": [],
   "source": [
    "def ranking(graph, groups, weight):\n",
    "    names = func.parser(graph.nodes(), False)\n",
    "    \n",
    "    essential = pd.read_csv(\"network_info/essential_proteins.csv\", header = None, usecols = [1])\n",
    "    essential = essential[1].tolist()\n",
    "    for i in range(len(essential)):\n",
    "        key = \"4932.\" + essential[i]\n",
    "        if key in names.keys():\n",
    "            essential[i] = names[key]\n",
    "    \n",
    "    cluster = weight[0][0]\n",
    "    index = int(cluster[1:])\n",
    "    \n",
    "    new_graph = graph.subgraph(groups[index])\n",
    "    \n",
    "    bet = nx.betweenness_centrality(new_graph)\n",
    "    bet = (sorted(bet.items(), key=lambda item: -item[1]))\n",
    "\n",
    "    eig = nx.eigenvector_centrality(new_graph)\n",
    "    eig = (sorted(eig.items(), key=lambda item: -item[1]))\n",
    "    \n",
    "    for i in range(len(eig)):\n",
    "        eig[i] = (names[eig[i][0]],eig[i][1])\n",
    "        bet[i] = (names[bet[i][0]],bet[i][1])\n",
    "        \n",
    "    combine = {}\n",
    "    for i in range(len(eig)):\n",
    "        combine[eig[i][0]] = i + 1\n",
    "\n",
    "    for i in range(len(bet)):\n",
    "        combine[bet[i][0]] += (i + 1)\n",
    "    \n",
    "    combine = (sorted(combine.items(), key=lambda item: item[1]))\n",
    "    \n",
    "    for protein in combine:\n",
    "        if protein[0] in essential:\n",
    "            combine.remove(protein)\n",
    "    \n",
    "    return combine"
   ]
  },
  {
   "cell_type": "code",
   "execution_count": 4,
   "id": "29a8994b-613b-4454-b976-f5c8425ee8dc",
   "metadata": {},
   "outputs": [],
   "source": [
    "tup = importance(900, \"4932.YIL042C\") #PKP1\n",
    "G = tup[0]\n",
    "clusters = tup[1]\n",
    "weights = tup[2]"
   ]
  },
  {
   "cell_type": "code",
   "execution_count": 5,
   "id": "6ef6cac6-5724-42dc-9ec3-84dc783bb89d",
   "metadata": {},
   "outputs": [],
   "source": [
    "names = func.parser(G.nodes(), False)"
   ]
  },
  {
   "cell_type": "code",
   "execution_count": 7,
   "id": "47ff1055-ea1a-4386-ad55-2cf9ec988db2",
   "metadata": {},
   "outputs": [
    {
     "name": "stdout",
     "output_type": "stream",
     "text": [
      "PYC2\n",
      "PDB1\n",
      "MAE1\n",
      "PDA1\n",
      "KGD2\n",
      "IRC15\n",
      "PDX1\n",
      "PKP1\n"
     ]
    }
   ],
   "source": [
    "target = func.find_cluster(\"4932.YIL042C\", clusters)\n",
    "for protein in clusters[target]:\n",
    "    print(names[protein])"
   ]
  },
  {
   "cell_type": "code",
   "execution_count": 8,
   "id": "26781b17-e58a-4974-8975-b7590a3e5d65",
   "metadata": {},
   "outputs": [
    {
     "name": "stdout",
     "output_type": "stream",
     "text": [
      "[('IDH2', 2), ('KGD1', 4), ('IDH1', 6), ('ACO1', 8), ('LSC1', 10), ('FUM1', 12), ('CIT1', 14), ('MDH1', 16), ('MDH3', 18), ('IDP3', 21), ('YMR31', 21)]\n"
     ]
    }
   ],
   "source": [
    "close = ranking(G, clusters, weights)\n",
    "print(close)"
   ]
  },
  {
   "cell_type": "code",
   "execution_count": null,
   "id": "4ee14c5c-08fe-4e60-8972-2236d527ccb3",
   "metadata": {},
   "outputs": [],
   "source": [
    "target2 = func.find_cluster(\"4932.YFL018C\", clusters) #LPD1\n",
    "for protein in clusters[target2]:\n",
    "    print(names[protein])"
   ]
  },
  {
   "cell_type": "code",
   "execution_count": null,
   "id": "28867b7e-43fc-44a8-a4c3-f12f91cc13d0",
   "metadata": {},
   "outputs": [],
   "source": [
    "target3 = func.find_cluster(\"4932.YOR090C\", clusters) #PTC5\n",
    "for protein in clusters[target3]:\n",
    "    print(names[protein])"
   ]
  },
  {
   "cell_type": "code",
   "execution_count": null,
   "id": "2b6a6558-93b8-4cb2-8635-e179f908e4cd",
   "metadata": {},
   "outputs": [],
   "source": []
  }
 ],
 "metadata": {
  "kernelspec": {
   "display_name": "Python 3",
   "language": "python",
   "name": "python3"
  },
  "language_info": {
   "codemirror_mode": {
    "name": "ipython",
    "version": 3
   },
   "file_extension": ".py",
   "mimetype": "text/x-python",
   "name": "python",
   "nbconvert_exporter": "python",
   "pygments_lexer": "ipython3",
   "version": "3.8.8"
  }
 },
 "nbformat": 4,
 "nbformat_minor": 5
}
