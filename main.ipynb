{
 "cells": [
  {
   "cell_type": "markdown",
   "metadata": {},
   "source": [
    "# General Algorithm For Course (version 0.2)\n",
    "1. Remove essential nodes and clean up network\n",
    "2. Perform Markov Cluster Algorithm (MCL) setting numnodes in the nieghbourhood of 200/300. \n",
    "3. Create new network, where each node represents the clusters:\n",
    "  - Weighted network option with weights set to number of connections between cluster a and cluster b\n",
    "  - Unweighted set by direct connection.\n",
    "4. Perform centrality analysis on the cluster network and identify important clusters.\n",
    "5. Find shortest path nodes for important clusters as proteins of inteerest."
   ]
  },
  {
   "cell_type": "code",
   "execution_count": 1,
   "metadata": {},
   "outputs": [],
   "source": [
    "import networkx as nx\n",
    "import markov_clustering as mc\n",
    "import numpy as np\n",
    "import scipy as sp\n",
    "import matplotlib.pyplot as plt\n",
    "import pandas as pd\n",
    "import func"
   ]
  },
  {
   "cell_type": "code",
   "execution_count": 2,
   "metadata": {},
   "outputs": [
    {
     "name": "stdout",
     "output_type": "stream",
     "text": [
      "{'LPD1': '4932.YFL018C', 'PDA1': '4932.YER178W', 'PYC2': '4932.YBR218C', 'PDB1': '4932.YBR221C', 'PTC1': '4932.YDL006W', 'BAT2': '4932.YJR148W', 'KGD1': '4932.YIL125W', 'AIM22': '4932.YJL046W', 'PKP1': '4932.YIL042C', 'PTC5': '4932.YOR090C', 'LAT1': '4932.YNL071W'}\n"
     ]
    }
   ],
   "source": [
    "# These are the essential proteins that the biochemist have identified \n",
    "# https://docs.google.com/document/d/12kaAjgjEsQtCOaRqw6g2ZNeLzN-rlzmLaGApKCdI1uc/edit \n",
    "# E3 protein is LPD1\n",
    "names = ['LPD1', 'PDA1', 'PYC2', 'PDB1', 'PTC1', 'BAT2', 'KGD1', 'AIM22', 'PKP1', 'PTC5', 'LAT1']\n",
    "\n",
    "nodes = func.parser(names)\n",
    "print(nodes)"
   ]
  },
  {
   "cell_type": "code",
   "execution_count": 3,
   "metadata": {},
   "outputs": [
    {
     "name": "stdout",
     "output_type": "stream",
     "text": [
      "Graph with 5098 nodes and 53550 edges\n"
     ]
    }
   ],
   "source": [
    "# Creates the network and removes initial nodes \n",
    "network_name = \"network_info/4932_protein_links_v11_5.txt\"\n",
    "G = func.remove_threshold(network_name, 700)\n",
    "\n",
    "essential_proteins = \"network_info/essential_proteins.csv\"\n",
    "G = func.remove_essential(G, essential_proteins)\n",
    "\n",
    "print(G)"
   ]
  },
  {
   "cell_type": "code",
   "execution_count": 4,
   "metadata": {},
   "outputs": [
    {
     "name": "stderr",
     "output_type": "stream",
     "text": [
      "/var/folders/qm/5krpz0vd1n5g2tknvt69wkx00000gn/T/ipykernel_85848/645912874.py:5: FutureWarning: adjacency_matrix will return a scipy.sparse array instead of a matrix in Networkx 3.0.\n",
      "  adj_matrix = nx.adjacency_matrix(G)\n"
     ]
    }
   ],
   "source": [
    "#Finds clusters\n",
    "\n",
    "# Here we are going to lose the protein names as the matrix gets assigned to their index. \n",
    "# So we recover that with a hash table (dictionary)\n",
    "adj_matrix = nx.adjacency_matrix(G) \n",
    "\n",
    "# Create a hash table that takes takes a number and returns a protein name\n",
    "protein_hash = {}\n",
    "for index, node in enumerate(G.nodes):\n",
    "    protein_hash[index] = node"
   ]
  },
  {
   "cell_type": "code",
   "execution_count": 5,
   "metadata": {},
   "outputs": [],
   "source": [
    "#Runs MCL \n",
    "\n",
    "# expanion paramter and inflation parameter tuned\n",
    "# result = mc.run_mcl(adj_matrix, expansion = 2, inflation = 1.04)  \n",
    "\n",
    "# run with default parameters    \n",
    "result = mc.run_mcl(adj_matrix)         \n",
    "clusters = mc.get_clusters(result) "
   ]
  },
  {
   "cell_type": "code",
   "execution_count": 6,
   "metadata": {},
   "outputs": [
    {
     "name": "stdout",
     "output_type": "stream",
     "text": [
      "The number of clusters 1050\n",
      "The total number of nodes 5098\n",
      "The average cluster size is 4.855238095238096\n"
     ]
    }
   ],
   "source": [
    "# finds how many clusters there are\n",
    "\n",
    "# When running \n",
    "# E = 2, I = 2  --> Number of Cluster = 1050\n",
    "#               --> Nodes = 5098\n",
    "\n",
    "# E = 10, I = 2 --> Number of Clusters = 469\n",
    "#               --> Nodes = 5098\n",
    "\n",
    "num_clusters = len(clusters)\n",
    "print(f\"The number of clusters {num_clusters}\") \n",
    "\n",
    "# finds the total number of nodes from the MCL\n",
    "counter = 0\n",
    "for cluster in clusters:\n",
    "    counter += len(cluster)\n",
    "print(f\"The total number of nodes {counter}\") \n",
    "\n",
    "# The average cluster size\n",
    "print(f\"The average cluster size is {counter/num_clusters}\")"
   ]
  },
  {
   "cell_type": "code",
   "execution_count": 9,
   "metadata": {},
   "outputs": [
    {
     "name": "stdout",
     "output_type": "stream",
     "text": [
      "1050\n"
     ]
    }
   ],
   "source": [
    "# Renaming proteins in the clusters\n",
    "named_clusters = func.renaming_clusters(clusters, protein_hash)\n",
    "print(len(named_clusters))"
   ]
  }
 ],
 "metadata": {
  "kernelspec": {
   "display_name": "Python 3.10.2 64-bit",
   "language": "python",
   "name": "python3"
  },
  "language_info": {
   "codemirror_mode": {
    "name": "ipython",
    "version": 3
   },
   "file_extension": ".py",
   "mimetype": "text/x-python",
   "name": "python",
   "nbconvert_exporter": "python",
   "pygments_lexer": "ipython3",
   "version": "3.10.2"
  },
  "orig_nbformat": 4,
  "vscode": {
   "interpreter": {
    "hash": "aee8b7b246df8f9039afb4144a1f6fd8d2ca17a180786b69acc140d282b71a49"
   }
  }
 },
 "nbformat": 4,
 "nbformat_minor": 2
}
