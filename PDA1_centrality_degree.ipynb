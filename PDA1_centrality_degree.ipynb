{
 "cells": [
  {
   "cell_type": "code",
   "execution_count": 47,
   "id": "65c13d69",
   "metadata": {},
   "outputs": [],
   "source": [
    "import networkx as nx\n",
    "import markov_clustering as mc\n",
    "import numpy as np\n",
    "import scipy as sp\n",
    "import pandas as pd\n",
    "from pprint import pprint\n",
    "import matplotlib.pyplot as plt\n",
    "from scipy.stats import linregress\n",
    "%matplotlib inline"
   ]
  },
  {
   "cell_type": "code",
   "execution_count": 42,
   "id": "258b8ac6",
   "metadata": {
    "scrolled": false
   },
   "outputs": [],
   "source": [
    "PDA1_degree_824 = pd.read_csv(\"824_PDA1_degree.csv\")\n",
    "PDA1_weighted_centrality_824 = pd.read_csv(\"824_PDA1_weighted_centrality.csv\")\n",
    "\n",
    "PDA1_degree_864 = pd.read_csv(\"864_PDA1_degree.csv\")\n",
    "PDA1_weighted_centrality_864 = pd.read_csv(\"864_PDA1_weighted_centrality.csv\")\n"
   ]
  },
  {
   "cell_type": "code",
   "execution_count": 43,
   "id": "8fd2d87d",
   "metadata": {},
   "outputs": [],
   "source": [
    "PDA1_degree_824_dic = dict(zip(PDA1_degree_824['0'], PDA1_degree_824['1']))\n",
    "PDA1_weighted_centrality_824_dic = dict(zip(PDA1_weighted_centrality_824['0'], PDA1_weighted_centrality_824['1']))\n",
    "\n",
    "PDA1_degree_864_dic = dict(zip(PDA1_degree_864['0'], PDA1_degree_864['1']))\n",
    "PDA1_weighted_centrality_864_dic = dict(zip(PDA1_weighted_centrality_864['0'], PDA1_weighted_centrality_864['1']))\n"
   ]
  },
  {
   "cell_type": "code",
   "execution_count": 44,
   "id": "3b05790c",
   "metadata": {
    "scrolled": true
   },
   "outputs": [],
   "source": [
    "PDA1_weighted_centrality_824_dic = dict(zip(PDA1_weighted_centrality_824['0'], PDA1_weighted_centrality_824['1']))\n",
    "PDA1_weighted_centrality_864_dic = dict(zip(PDA1_weighted_centrality_864['0'], PDA1_weighted_centrality_864['1']))"
   ]
  },
  {
   "cell_type": "code",
   "execution_count": 52,
   "id": "8ffe6e40",
   "metadata": {},
   "outputs": [
    {
     "data": {
      "image/png": "[encoded data removed]",
      "text/plain": [
       "<Figure size 432x288 with 1 Axes>"
      ]
     },
     "metadata": {
      "needs_background": "light"
     },
     "output_type": "display_data"
    }
   ],
   "source": [
    "bc_deg_824 = {}\n",
    "for key in PDA1_weighted_centrality_824_dic.keys():\n",
    "    for k in PDA1_degree_824_dic.keys():\n",
    "        if k == key:\n",
    "            bc_deg_824[key] = (PDA1_weighted_centrality_824_dic[key], PDA1_degree_824_dic[k])\n",
    "\n",
    "bc_deg_864 = {}\n",
    "for key in PDA1_weighted_centrality_864_dic.keys():\n",
    "    for k in PDA1_degree_864_dic.keys():\n",
    "        if k == key:\n",
    "            bc_deg_864[key] = (PDA1_weighted_centrality_864_dic[key], PDA1_degree_864_dic[k])\n",
    "\n",
    "\n",
    "            \n",
    "all_values_824 = bc_deg_824.values()\n",
    "all_values_864 = bc_deg_864.values()\n",
    "x = []\n",
    "y = []\n",
    "for a in all_values_824:\n",
    "    x.append(a[1])\n",
    "    y.append(a[0])\n",
    "    \n",
    "x2 = []\n",
    "y2 = []\n",
    "for a in all_values_864:\n",
    "    x2.append(a[1])\n",
    "    y2.append(a[0])\n",
    "\n",
    "plt.scatter(x, y, color=\"r\", label='threshold 824')\n",
    "plt.scatter(x2, y2, color='b', label='threshold 864')\n",
    "plt.xlabel('Degree')\n",
    "plt.ylabel('Betweenness centrality')\n",
    "\n",
    "x = np.array(x)\n",
    "y = np.array(y)\n",
    "a, b, r_value, p_value, std_err = linregress(x, y)\n",
    "plt.plot(x, a*x + b, color=\"red\", label=f\"Cumulated: r_sqd = {round(r_value**2,3)}\",linestyle=(0,(3,10,1,10)), linewidth=1.5)\n",
    "\n",
    "x2 = np.array(x2)\n",
    "y2 = np.array(y2)\n",
    "a, b, r_value, p_value, std_err = linregress(x2, y2)\n",
    "plt.plot(x, a*x + b, color=\"blue\", label=f\"Cumulated: r_sqd = {round(r_value**2,3)}\",linestyle=(0,(3,10,1,10)), linewidth=1.5)\n",
    "\n",
    "plt.legend()\n",
    "plt.savefig(\"centrality_degree\")"
   ]
  },
  {
   "cell_type": "code",
   "execution_count": null,
   "id": "98bff1ec",
   "metadata": {},
   "outputs": [],
   "source": []
  }
 ],
 "metadata": {
  "kernelspec": {
   "display_name": "Python 3",
   "language": "python",
   "name": "python3"
  },
  "language_info": {
   "codemirror_mode": {
    "name": "ipython",
    "version": 3
   },
   "file_extension": ".py",
   "mimetype": "text/x-python",
   "name": "python",
   "nbconvert_exporter": "python",
   "pygments_lexer": "ipython3",
   "version": "3.8.8"
  }
 },
 "nbformat": 4,
 "nbformat_minor": 5
}
